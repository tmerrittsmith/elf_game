{
 "cells": [
  {
   "cell_type": "code",
   "execution_count": 4,
   "metadata": {
    "collapsed": true
   },
   "outputs": [],
   "source": [
    "import numpy as np"
   ]
  },
  {
   "cell_type": "code",
   "execution_count": 5,
   "metadata": {
    "collapsed": false
   },
   "outputs": [
    {
     "name": "stdout",
     "output_type": "stream",
     "text": [
      "[[  0.           0.          10.           0.        ]\n",
      " [  0.           0.          13.33333333   0.        ]\n",
      " [  0.          -0.33333333  33.33333333   0.        ]]\n"
     ]
    }
   ],
   "source": [
    "## (days, Elfcount, Funds,  elf_hire_bit)\n",
    "\n",
    "start = np.array([0, 12, 0, 0%2])\n",
    "\n",
    "## (current state + elf_hire + allocation*weathertransformer\n",
    "\n",
    "## Woods, Forest, Mountain\n",
    "\n",
    "allocation = np.array([5, 10, 5])\n",
    "\n",
    "## Woods*10 + good Forest*20 + Mountain*50 bad count - mountain\n",
    "\n",
    "expected_transition = 2/3*np.array([[0,0,  15, 0],\n",
    "                               [0,0,  20, 0],\n",
    "                               [0,-0.5,  50, 0]]\n",
    "                               \n",
    "                              )\n",
    "\n",
    "\n",
    "print(expected_transition)\n",
    "\n",
    "good_transition = np.array([[0,0,  10, 0],\n",
    "                               [0,0,  20, 0],\n",
    "                               [0,0,  50, 0]])\n",
    "\n",
    "bad_transition = np.array([[0,0,  10, 0],\n",
    "                               [0,0,  0, 0],\n",
    "                               [0,-1,  0, 0]])\n"
   ]
  },
  {
   "cell_type": "markdown",
   "metadata": {},
   "source": [
    "We can still create a bot and see what it does"
   ]
  },
  {
   "cell_type": "code",
   "execution_count": 6,
   "metadata": {
    "collapsed": true
   },
   "outputs": [],
   "source": [
    "def random_bot(state, transition = good_transition):\n",
    "    \n",
    "    weather = np.random.randint(0,6)\n",
    "    if weather >3:\n",
    "        transition = bad_transition\n",
    "    ##hiring\n",
    "    if state[3]==0:\n",
    "        hire_total = np.random.randint(0,np.floor(state[2]/75)+1)\n",
    "        print(hire_total)\n",
    "        state += np.array([0,hire_total,0,1])\n",
    "    ##allocating\n",
    "    elif state[3]==1:\n",
    "        elf_count = state[1]\n",
    "        woods = np.random.randint(0,elf_count+1)\n",
    "        forest = np.random.randint(0,elf_count-woods+1)\n",
    "        mountain = np.random.randint(0,elf_count-woods-forest+1)\n",
    "    \n",
    "        allocation = np.array([woods,forest,mountain])\n",
    "    \n",
    "        state = state + np.dot(allocation, transition) + np.array([1,0,0,-1])\n",
    "    return state\n",
    "    \n",
    "    "
   ]
  },
  {
   "cell_type": "code",
   "execution_count": 7,
   "metadata": {
    "collapsed": false
   },
   "outputs": [
    {
     "name": "stdout",
     "output_type": "stream",
     "text": [
      "[ 0 12  0  0]\n",
      "0\n",
      "[ 0 12  0  1]\n",
      "[ 1  9 20  0]\n",
      "0\n",
      "[ 1  9 20  1]\n",
      "[  2   9 100   0]\n",
      "1\n",
      "[  2  10 100   1]\n",
      "[  3  10 150   0]\n",
      "1\n",
      "[  3  11 150   1]\n",
      "[  4  11 330   0]\n",
      "4\n",
      "[  4  15 330   1]\n",
      "[  5  15 540   0]\n",
      "3\n",
      "[  5  18 540   1]\n",
      "[  6  18 720   0]\n",
      "1\n",
      "[  6  19 720   1]\n",
      "[   7   19 1320    0]\n",
      "11\n",
      "[   7   30 1320    1]\n",
      "[   8   30 1630    0]\n",
      "2\n",
      "[   8   32 1630    1]\n",
      "[   9   23 1830    0]\n",
      "1\n",
      "[   9   24 1830    1]\n"
     ]
    }
   ],
   "source": [
    "start = np.array([0, 12, 0, 0])\n",
    "state = start\n",
    "while state[0]<10:    \n",
    "    print(state)\n",
    "    state = random_bot(state)\n"
   ]
  },
  {
   "cell_type": "markdown",
   "metadata": {},
   "source": [
    "Solving the Elf Game"
   ]
  },
  {
   "cell_type": "code",
   "execution_count": 8,
   "metadata": {
    "collapsed": false
   },
   "outputs": [],
   "source": [
    "## hiring function generates possible hiring options for a state\n",
    "def hiring(state):\n",
    "    total = 0\n",
    "    #print(state[2]//75+1)\n",
    "    while total<= state[2]//75:\n",
    "                \n",
    "        hire_total = total\n",
    "        #print(state)\n",
    "        test_state = state + np.array([0,hire_total,-hire_total*75,1])\n",
    "        #print(test_state)\n",
    "        yield hire_total, test_state\n",
    "        total+=1\n",
    "        \n",
    "def hiring_tight(state):\n",
    "    total = 0\n",
    "    #print(state[2]//75+1)\n",
    "    while total<= state[2]//75:\n",
    "                \n",
    "        hire_total = total\n",
    "        #print(state)\n",
    "        test_state = state + np.array([0,hire_total,-hire_total*75,1])\n",
    "        #print(test_state)\n",
    "        yield test_state\n",
    "        total+=1\n",
    "\n",
    "        \n",
    "def hire_number(state):\n",
    "    total = 0\n",
    "    while total <= state[2]//75:\n",
    "        yield total\n",
    "        total+=1\n",
    "\n",
    "def hired_state(state, hire_total):\n",
    "    hired = state + np.array([0,hire_total,-hire_total*75,1])\n",
    "    return hired\n",
    "\n",
    "## allocator function generates all the possible allocations of elves to Woods, Forest, Mountain\n",
    "def allocator(state):        \n",
    "    elf_count = state[1]\n",
    "    \n",
    "    elves = 0\n",
    "    while elves <= elf_count:    \n",
    "        woods = elves\n",
    "        remaining_elves = elf_count-woods\n",
    "        forest = 0\n",
    "\n",
    "        while forest <=remaining_elves:\n",
    "\n",
    "            \n",
    "            mountain = remaining_elves-forest\n",
    "            allocation = np.array([woods,forest,mountain])\n",
    "            yield allocation\n",
    "            forest+=1\n",
    "        elves+=1\n",
    "        "
   ]
  },
  {
   "cell_type": "code",
   "execution_count": 9,
   "metadata": {
    "collapsed": false
   },
   "outputs": [],
   "source": [
    "floor_vec = np.vectorize(lambda x: int(np.floor(x)))\n",
    "\n",
    "##result_generator links the evaluated state and the allocation, so that we can track back on it\n",
    "\n",
    "def result_generator(state):\n",
    "    \n",
    "    for allocation in allocator(state):\n",
    "    \n",
    "        evaluated_state = state + np.dot(allocation, expected_transition) + np.array([1,0,0,-1])\n",
    "        evaluated_state = floor_vec(evaluated_state)\n",
    "        yield (evaluated_state, allocation)\n",
    "\n",
    "def result(state, allocation):\n",
    "    evaluated_state = state + np.dot(allocation, expected_transition) + np.array([1,0,0,-1])\n",
    "    evaluated_state = floor_vec(evaluated_state)\n",
    "    return evaluated_state\n"
   ]
  },
  {
   "cell_type": "markdown",
   "metadata": {},
   "source": [
    "OPT(i,j,k,b) itself can be defined as a\n",
    "function which recursively calls itself\n",
    "for new states (i',j',k',b') as needed,\n",
    "but such that, *before* doing a recursive\n",
    "call on (i',j',k',b'),   we CHECK in\n",
    "a lookup table whether the value/action\n",
    "solution for (i',j',k',b') has already\n",
    "been computed before (i.e., \"memoized\"),\n",
    "in which case we do not need to\n",
    "make the recursive call, and can\n",
    "simply use that answer.\n",
    "\n",
    "Moreover, once we do compute an answer\n",
    "during the computation for some state\n",
    "(i',j',k',d'),  we insert that answer\n",
    "into the lookup table for future use.\n",
    "\n",
    "(The lookup table can be an efficient\n",
    " hash table, or array, or other efficient\n",
    " data structure suitable for this purpose.)\n",
    "\n",
    "Now, of course the key question is\n",
    "\"what is the nature of the recursive procedure\n",
    "that defines OPT(i,j,k,b)\".\n",
    "\n",
    "This simply follows the definition of the\n",
    "(partially probabilistic) \"game tree\" that I described in my prior\n",
    "email."
   ]
  },
  {
   "cell_type": "code",
   "execution_count": 21,
   "metadata": {
    "collapsed": false
   },
   "outputs": [],
   "source": [
    "start = np.array([0, 3, 75, 0])\n",
    "memo_table={'End':np.array([0,0,0,0]),'penultimate':start,'pen_action':np.array([0,0,0])}\n",
    "\n",
    "def recursive_tree(state,gamelength):\n",
    "    \n",
    "    state_key = np.array2string(state)\n",
    "     \n",
    "    if state_key in memo_table.keys():\n",
    "        return memo_table\n",
    "    elif state[3] == 0 and state[0]<gamelength:\n",
    "        \n",
    "        for h in hire_number(state):\n",
    "            hired = hired_state(state,h)\n",
    "            hired_key = np.array2string(hired)\n",
    "            if hired_key in memo_table.keys():\n",
    "                print('winning')\n",
    "                \n",
    "                memo_table[state_key]=h\n",
    "            else:\n",
    "                recursive_tree(hired,gamelength)\n",
    "    elif state[3] == 1 and state[0]<gamelength-1:\n",
    "        \n",
    "        for r in result_generator(state):\n",
    "            result_key = np.array2string(r[0])\n",
    "            if result_key in memo_table.keys():\n",
    "                print('interesting')\n",
    "                memo_table[state_key]=r[1]\n",
    "                recursive_tree\n",
    "            else:\n",
    "                recursive_tree(r[0],gamelength)\n",
    "                \n",
    "\n",
    "           \n",
    "    else:\n",
    "        \n",
    "        max_state=memo_table['End']\n",
    "        penstate = memo_table['penultimate']\n",
    "        best_action = memo_table['pen_action']\n",
    "        for r in result_generator(state):\n",
    "            r_key = np.array2string(r[0])\n",
    "            \n",
    "            \n",
    "            if r[0][2]>max_state[2]:\n",
    "                #print('currently max state because r[0][2]%s>max_state[2]%s' %(r[0][2],max_state[2]))\n",
    "                max_state=r[0]\n",
    "                best_action = r[1]\n",
    "                penstate = state\n",
    "                \n",
    "                \n",
    "                #print(new_max_state)    \n",
    "            memo_table['End']=max_state\n",
    "            memo_table['penultimate']= penstate\n",
    "            memo_table['pen_action']=best_action\n",
    "        \n",
    "    #memo_table[np.array2string(memo_table['penultimate'])]=memo_table['pen_action']\n",
    "    #recursive_tree(memo_table['penultimate'],gamelength)    \n",
    "        \n",
    "\n",
    "\n",
    "\n",
    "\n",
    "\n"
   ]
  },
  {
   "cell_type": "code",
   "execution_count": 22,
   "metadata": {
    "collapsed": false
   },
   "outputs": [],
   "source": [
    "recursive_tree(start,4)\n",
    "memo_table[np.array2string(memo_table['penultimate'])]=memo_table['pen_action']\n"
   ]
  },
  {
   "cell_type": "code",
   "execution_count": 23,
   "metadata": {
    "collapsed": false
   },
   "outputs": [
    {
     "data": {
      "text/plain": [
       "{'End': array([  4,   1, 332,   0]),\n",
       " '[  3   2 266   1]': array([0, 0, 2]),\n",
       " 'pen_action': array([0, 0, 2]),\n",
       " 'penultimate': array([  3,   2, 266,   1])}"
      ]
     },
     "execution_count": 23,
     "metadata": {},
     "output_type": "execute_result"
    }
   ],
   "source": [
    "memo_table"
   ]
  },
  {
   "cell_type": "markdown",
   "metadata": {},
   "source": [
    "So recursive tree has identified the penultimate state and the end state with the optimal expected payoff.\n",
    "\n",
    "Now we need to trace back the previous states and actions so that we know how to get there."
   ]
  },
  {
   "cell_type": "code",
   "execution_count": 26,
   "metadata": {
    "collapsed": false
   },
   "outputs": [
    {
     "name": "stdout",
     "output_type": "stream",
     "text": [
      "winning\n",
      "interesting\n",
      "winning\n",
      "interesting\n",
      "winning\n",
      "interesting\n",
      "winning\n"
     ]
    },
    {
     "data": {
      "text/plain": [
       "{'End': array([  4,   1, 332,   0]),\n",
       " '[  2   3 166   0]': 0,\n",
       " '[  2   3 166   1]': array([0, 0, 3]),\n",
       " '[  3   2 266   0]': 0,\n",
       " '[  3   2 266   1]': array([0, 0, 2]),\n",
       " '[ 0  3 75  0]': 1,\n",
       " '[ 1  4 53  0]': 0,\n",
       " '[ 1  4 53  1]': array([0, 1, 3]),\n",
       " '[0 4 0 1]': array([0, 4, 0]),\n",
       " 'pen_action': array([0, 0, 2]),\n",
       " 'penultimate': array([  3,   2, 266,   1])}"
      ]
     },
     "execution_count": 26,
     "metadata": {},
     "output_type": "execute_result"
    }
   ],
   "source": [
    "while np.array2string(start) not in memo_table.keys():\n",
    "    recursive_tree(start,4)\n",
    "    \n",
    "memo_table"
   ]
  },
  {
   "cell_type": "code",
   "execution_count": 28,
   "metadata": {
    "collapsed": false
   },
   "outputs": [
    {
     "name": "stdout",
     "output_type": "stream",
     "text": [
      "End\n",
      "[  4   1 332   0]\n",
      "[  2   3 166   0]\n",
      "0\n",
      "[  2   3 166   1]\n",
      "[0 0 3]\n",
      "[  3   2 266   0]\n",
      "0\n",
      "[  3   2 266   1]\n",
      "[0 0 2]\n",
      "[ 0  3 75  0]\n",
      "1\n",
      "[ 1  4 53  0]\n",
      "0\n",
      "[ 1  4 53  1]\n",
      "[0 1 3]\n",
      "[0 4 0 1]\n",
      "[0 4 0]\n",
      "pen_action\n",
      "[0 0 2]\n",
      "penultimate\n",
      "[  3   2 266   1]\n"
     ]
    }
   ],
   "source": [
    "## trying to organise this starting with the first day then the first action...\n",
    "\n",
    "keys = [k for k in memo_table.keys()]\n",
    "for k in sorted(keys):\n",
    "    print(k)\n",
    "    print(memo_table[k])"
   ]
  },
  {
   "cell_type": "code",
   "execution_count": null,
   "metadata": {
    "collapsed": true
   },
   "outputs": [],
   "source": []
  }
 ],
 "metadata": {
  "kernelspec": {
   "display_name": "Python 3",
   "language": "python",
   "name": "python3"
  },
  "language_info": {
   "codemirror_mode": {
    "name": "ipython",
    "version": 3
   },
   "file_extension": ".py",
   "mimetype": "text/x-python",
   "name": "python",
   "nbconvert_exporter": "python",
   "pygments_lexer": "ipython3",
   "version": "3.5.1"
  }
 },
 "nbformat": 4,
 "nbformat_minor": 0
}
